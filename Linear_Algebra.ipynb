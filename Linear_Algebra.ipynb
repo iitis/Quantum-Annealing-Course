{
 "cells": [
  {
   "cell_type": "markdown",
   "metadata": {},
   "source": [
    "![IITIS](pictures/logoIITISduze.png)"
   ]
  },
  {
   "cell_type": "markdown",
   "metadata": {},
   "source": [
    "# Linear Algebra\n",
    "\n",
    "Linear algebra is a branch of mathematics that deals with vectors, vector spaces (also called linear spaces), linear transformations, and systems of linear equations. It is a fundamental tool of quantum mechanics and many other branches of science. Here, we will provide a review of several key concepts needed for understaning of quantum annealing. We will also include code examples in python, so everyone can get familiar with practical aplications of these concepts. \n",
    "\n",
    "## Key concepts\n",
    "Key concepts covered in this presentations are:\n",
    "* Vectors and Vector Spaces\n",
    "* Matrices, including:\n",
    "    - Operations on Matrices\n",
    "    - Herminian and Unitary Matrices\n",
    "    - Determinant\n",
    "    - Eigenvalues and Eigenvectors\n",
    "    - Matrix as Linear Transformation\n",
    "* Tensors\n"
   ]
  },
  {
   "cell_type": "markdown",
   "metadata": {},
   "source": [
    "### Vectors and Vector Spaces\n",
    "\n",
    "A **vector** is a mathematical object characterized by a magnitude and direction. It can be represented in a coordinate system as an array of numbers, each representing a component in a dimension of the space. For example, in a 3-dimensional space, a vector $v$ can be represented as:\n",
    "\n",
    "$v = \\begin{bmatrix} v_1 \\\\ v_2 \\\\ v_3 \\end{bmatrix}$ where $v_1$, $v_2$, and $v_3$ are the components of $v$ along the $x$, $y$, and $z$ axes, respectively.\n",
    "\n",
    "in Dirac notation\n",
    "\n",
    "$\\ket{v} = \\begin{bmatrix} v_1 \\\\ v_2 \\\\ v_3 \\end{bmatrix}$\n",
    "\n",
    "for the rest of this coure we will use dirac notation.\n",
    "\n",
    "\n",
    "TODO: operations on vectors, scalar, dot etc\n",
    "\n",
    "\n",
    "A vector space over a field $\\mathbb{F}$ is a non-empty set $V$ together with a binary operation and a binary function that satisfy the axioms listed below. In this context, the elements of $V$ are commonly called vectors, and the elements of $\\mathbb{F}$ are called scalars.\n",
    "\n",
    "* The binary operation, called *vector addition* or simply *addition* assigns to any two vectors $\\ket{v}$ and $\\ket{w}$ in $V$ a third vector in $V$ which is commonly written as $\\ket{v} + \\ket{w}$, and called the sum of these two vectors.\n",
    "\n",
    "* The binary function, called *scalar multiplication*，assigns to any scalar $a$ in $\\mathbb{F}$ and any vector $\\ket{v}$ in $V$ another vector in $V$, which is denoted $a\\ket{v}$.\n",
    "\n",
    "The  axioms are as follow:\n",
    "\n",
    "- Associativity of vector addition\n",
    "- Commutativity of vector addition\n",
    "- Identity element of vector addition\n",
    "- Inverse elements of vector addition\n",
    "- Compatibility of scalar multiplication with field multiplication\n",
    "- Identity element of scalar multiplication\n",
    "- Distributivity of scalar multiplication with respect to vector addition \n",
    "- Distributivity of scalar multiplication with respect to field addition\n",
    "\n",
    "#### Example of Vector Space\n",
    "\n",
    "#### Code Example\n"
   ]
  },
  {
   "cell_type": "code",
   "execution_count": 2,
   "metadata": {},
   "outputs": [],
   "source": [
    "import numpy as np\n",
    "# In python, numpy is a standard library for dealing with linear algebra"
   ]
  },
  {
   "cell_type": "markdown",
   "metadata": {},
   "source": []
  }
 ],
 "metadata": {
  "kernelspec": {
   "display_name": "ocean",
   "language": "python",
   "name": "python3"
  },
  "language_info": {
   "codemirror_mode": {
    "name": "ipython",
    "version": 3
   },
   "file_extension": ".py",
   "mimetype": "text/x-python",
   "name": "python",
   "nbconvert_exporter": "python",
   "pygments_lexer": "ipython3",
   "version": "3.10.13"
  }
 },
 "nbformat": 4,
 "nbformat_minor": 2
}
