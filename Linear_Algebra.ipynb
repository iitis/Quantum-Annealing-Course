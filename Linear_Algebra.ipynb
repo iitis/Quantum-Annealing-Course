{
 "cells": [
  {
   "cell_type": "markdown",
   "metadata": {},
   "source": [
    "![IITIS](pictures/logoIITISduze.png)"
   ]
  },
  {
   "cell_type": "markdown",
   "metadata": {},
   "source": [
    "# Linear Algebra\n",
    "\n",
    "Linear algebra is a branch of mathematics that deals with vectors, vector spaces (also called linear spaces), linear transformations, and systems of linear equations. It is a fundamental tool of quantum mechanics and many other branches of science. Here, we will provide a review of several key concepts needed for understaning of quantum annealing. We will also include code examples in python, so everyone can get familiar with practical aplications of these concepts. \n",
    "\n",
    "## Key Concepts\n",
    "Key concepts covered in this presentations are:\n",
    "* Vectors and Vector Spaces\n",
    "* Matrices, including:\n",
    "    - Operations on Matrices\n",
    "    - Herminian and Unitary Matrices\n",
    "    - Determinant\n",
    "    - Eigenvalues and Eigenvectors\n",
    "    - Matrix as Linear Transformation\n",
    "* Tensors\n",
    "\n",
    "## Advanced Concepts\n",
    "This presentation also covers range of advanced concepts, which can be skiped during first read:\n",
    "* The Gram–Schmidt process\n",
    "* Matrix Decompositions:\n",
    "    - QR decomposition\n",
    "    - Singular value decomposition\n",
    "    - spectral decomposition (including Eigendecomposition)\n",
    "\n",
    "\n"
   ]
  },
  {
   "cell_type": "markdown",
   "metadata": {},
   "source": [
    "### Vectors and Vector Spaces\n",
    "\n",
    "A **vector** is a mathematical object characterized by a magnitude and direction. It can be represented in a coordinate system as an array of numbers, each representing a component in a dimension of the space. For example, in a 3-dimensional space, a vector $v$ can be represented as:\n",
    "\n",
    "$v = \\begin{bmatrix} v_1 \\\\ v_2 \\\\ v_3 \\end{bmatrix}$ where $v_1$, $v_2$, and $v_3$ are the components of $v$ along the $x$, $y$, and $z$ axes, respectively.\n",
    "\n",
    "in Dirac notation\n",
    "\n",
    "$\\ket{v} = \\begin{bmatrix} v_1 \\\\ v_2 \\\\ v_3 \\end{bmatrix}$\n",
    "\n",
    "for the rest of this coure we will use dirac notation.\n",
    "\n",
    "\n",
    "TODO: operations on vectors, scalar, dot etc\n",
    "\n",
    "\n",
    "A vector space over a field $\\mathbb{F}$ is a non-empty set $V$ together with a binary operation and a binary function that satisfy the axioms listed below. In this context, the elements of $V$ are commonly called vectors, and the elements of $\\mathbb{F}$ are called scalars.\n",
    "\n",
    "* The binary operation, called *vector addition* or simply *addition* assigns to any two vectors $\\ket{v}$ and $\\ket{w}$ in $V$ a third vector in $V$ which is commonly written as $\\ket{v} + \\ket{w}$, and called the sum of these two vectors.\n",
    "\n",
    "* The binary function, called *scalar multiplication*，assigns to any scalar $a$ in $\\mathbb{F}$ and any vector $\\ket{v}$ in $V$ another vector in $V$, which is denoted $a\\ket{v}$.\n",
    "\n",
    "The  axioms are as follow:\n",
    "\n",
    "- Associativity of vector addition\n",
    "- Commutativity of vector addition\n",
    "- Identity element of vector addition\n",
    "- Inverse elements of vector addition\n",
    "- Compatibility of scalar multiplication with field multiplication\n",
    "- Identity element of scalar multiplication\n",
    "- Distributivity of scalar multiplication with respect to vector addition \n",
    "- Distributivity of scalar multiplication with respect to field addition\n",
    "\n",
    "#### Example of Vector Space\n",
    "\n",
    "#### Code Example"
   ]
  },
  {
   "cell_type": "code",
   "execution_count": 2,
   "metadata": {},
   "outputs": [
    {
     "name": "stdout",
     "output_type": "stream",
     "text": [
      "[[1 2]\n",
      " [3 4]]\n"
     ]
    }
   ],
   "source": [
    "import numpy as np\n",
    "# In python, numpy is a standard library for dealing with linear algebra\n",
    "A = np.array([[1, 2], [3, 4]])\n",
    "print(A)"
   ]
  },
  {
   "cell_type": "markdown",
   "metadata": {},
   "source": [
    "## QR Decomposition\n",
    "Any real square matrix A may be decomposed as:      \n",
    "        $A = QR$,      \n",
    "where $Q$ is an *orthogonal matrix* (its columns are orthogonal unit vectors meaning $Q^T = Q^{-1}$) and $R$ is an *upper triangular matrix* (also called *right triangular matrix*). If A is *invertible*, then the factorization is unique if we require the diagonal elements of $R$ to be positive. \n",
    "\n",
    "If instead $A$ is a complex square matrix, then there is a decomposition $A = QR$ where $Q$ is a *unitary matrix* (so the conjugate transpose $Q^{\\dagger }=Q^{-1}$).\n",
    "\n",
    "If $A$ has $n$ linearly independent columns, then the first $n$ columns of $Q$ form an orthonormal basis for the column space of $A$. More generally, the first $k$ columns of $Q$ form an orthonormal basis for the span of the first $k$ columns of $A$ for any $1 \\leq k \\leq n$. The fact that any column $k$ of $A$ only depends on the first $k$ columns of $Q$ corresponds to the triangular form of $R$.\n",
    "\n",
    "### Computing the QR decomposition\n",
    "Various approaches exist for computing the QR decomposition, each with distinct benefits and drawbacks. In this discussion, we focus on the simplest technique, which employs the Gram-Schmidt process. It's important to note, however, that practical QR decomposition implementations often utilize alternative methods with superior numerical properties. For further exploration, interested readers may refer to [], [] or [].\n",
    "\n"
   ]
  }
 ],
 "metadata": {
  "kernelspec": {
   "display_name": "ocean",
   "language": "python",
   "name": "python3"
  },
  "language_info": {
   "codemirror_mode": {
    "name": "ipython",
    "version": 3
   },
   "file_extension": ".py",
   "mimetype": "text/x-python",
   "name": "python",
   "nbconvert_exporter": "python",
   "pygments_lexer": "ipython3",
   "version": "3.10.13"
  }
 },
 "nbformat": 4,
 "nbformat_minor": 2
}
