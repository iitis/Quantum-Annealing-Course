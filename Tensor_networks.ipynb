{
 "cells": [
  {
   "cell_type": "markdown",
   "metadata": {},
   "source": [
    "![IITIS](pictures/logoIITISduze.png)"
   ]
  },
  {
   "cell_type": "markdown",
   "metadata": {},
   "source": [
    "# Introduction to Tensor Networks\n",
    "\n",
    "## Tensor\n",
    "For our purposes, a tensor can simply be understood as a multi-dimensional array of numbers. Typically we use a diagrammatic notation for tensors, where each tensor is drawn as a solid shape with a number of 'legs' corresponding to its order:   \n",
    "   \n",
    "PICTURE   \n"
   ]
  }
 ],
 "metadata": {
  "language_info": {
   "name": "python"
  }
 },
 "nbformat": 4,
 "nbformat_minor": 2
}
